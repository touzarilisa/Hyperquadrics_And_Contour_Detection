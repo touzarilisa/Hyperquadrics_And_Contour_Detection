{
 "cells": [
  {
   "cell_type": "markdown",
   "metadata": {},
   "source": [
    "# $$\\text{Compte rendu: calcul scientifique et traitement des données}$$\n",
    " \n",
    "## $$\\text{TP2: Prise en main des packages numpy et matplotlib}\\\\  \n",
    "\\text{  Minimisation d’une fonction d’une variable}$$"
   ]
  },
  {
   "cell_type": "markdown",
   "metadata": {},
   "source": [
    "## 1.Recherche d'un minimum d'une fonction par la méthode de dichotomie\n"
   ]
  },
  {
   "cell_type": "code",
   "execution_count": 1,
   "metadata": {},
   "outputs": [
    {
     "data": {
      "text/plain": [
       "Text(1, -5, 'Precision = 0.1\\nCV en 7 iterations\\nBorne inférieure :\\n  x_min = -1.4688\\n  y_min = -6.7439\\nBorne supérieure :\\n  x_max = -1.4062\\n  y_max = -6.7404')"
      ]
     },
     "execution_count": 1,
     "metadata": {},
     "output_type": "execute_result"
    },
    {
     "data": {
      "image/png": "[encoded data removed]",
      "text/plain": [
       "<Figure size 432x288 with 1 Axes>"
      ]
     },
     "metadata": {
      "needs_background": "light"
     },
     "output_type": "display_data"
    }
   ],
   "source": [
    "#définition de la fonction f1\n",
    "def f1(x) :\n",
    "    return (x+1)**2 + 7*np.sin(x)\n",
    "\n",
    "import numpy as np\n",
    "import matplotlib.pyplot as plt\n",
    "x_min = -4\n",
    "x_max = +4\n",
    "\n",
    "f = f1\n",
    "precision = 1e-1\n",
    "# METHODE minimumDichotomie \n",
    "def minimumDichotomie(f,x_min,x_max,precision):\n",
    "    x1=x_min\n",
    "    x5=x_max\n",
    "\n",
    "    #les bornes\n",
    "    bornes_min=np.array([[x1],[f(x1)]])\n",
    "    bornes_max=np.array([[x5],[f(x5)]])    \n",
    "    \n",
    "    #dichotomie\n",
    "    cmpt=0\n",
    "    while  x5-x1>precision and cmpt<100:\n",
    "         \n",
    "         x3=(x1+x5)/2\n",
    "         x2=(x1+x3)/2\n",
    "         x4=(x3+x5)/2\n",
    "         \n",
    "         val_f1=np.array([f(x1),f(x2),f(x3),f(x4),f(x5)])\n",
    "         \n",
    "         if val_f1[0]<val_f1[1]<val_f1[2]<val_f1[3]<val_f1[4]:\n",
    "             x5=x2\n",
    "             cmpt+=1\n",
    "         elif val_f1[0]>val_f1[1]<val_f1[2]<val_f1[3]<val_f1[4]:\n",
    "             x5=x3\n",
    "             cmpt+=1\n",
    "         elif val_f1[0]>val_f1[1]>val_f1[2]<val_f1[3]<val_f1[4]:\n",
    "             x1=x2\n",
    "             x5=x4\n",
    "             cmpt+=1\n",
    "         elif val_f1[0]>val_f1[1]>val_f1[2]>val_f1[3]<val_f1[4]:\n",
    "             x1=x3\n",
    "             cmpt+=1\n",
    "         elif val_f1[0]>val_f1[1]>val_f1[2]>val_f1[3]>val_f1[4]:\n",
    "             x1=x4\n",
    "             cmpt+=1\n",
    "         else:\n",
    "             print('fonction non unimodale')\n",
    "             return [x_min,f(x_min)],[x_max,f(x_max)],cmpt,False\n",
    "         bornes_min=np.concatenate((bornes_min,[[x1],[f(x1)]]),axis=1)\n",
    "         bornes_max=np.concatenate((bornes_max,[[x5],[f(x5)]]),axis=1)\n",
    "            \n",
    "    return bornes_min,bornes_max,cmpt,x5-x1<=precision\n",
    "        \n",
    "#appel de la fonction de dichotomie       \n",
    "bornes_min, bornes_max, n_iter, ier = minimumDichotomie(f,x_min,x_max,precision)\n",
    "#intervalle final\n",
    "x_min, y_min = bornes_min[0][n_iter], bornes_min[1][n_iter]\n",
    "x_max, y_max = bornes_max[0][n_iter], bornes_max[1][n_iter]\n",
    "# Visualisation des résultats\n",
    "plt.plot(bornes_min[0],bornes_min[1],'rs', label = 'x_min')\n",
    "plt.plot(bornes_max[0],bornes_max[1],'bs', label = 'x_max')\n",
    "plt.legend()\n",
    "plt.xlabel('Valeurs de $x$')\n",
    "plt.ylabel('Valeurs de $f_1(x)$')\n",
    "plt.title('Recherche du minimum de $f_1$ par dichotomie')\n",
    "plt.grid()\n",
    "\n",
    "message = 'Precision = {}'.format(precision)\n",
    "message += '\\nCV en {} iterations'.format(n_iter)\n",
    "message += '\\nBorne inférieure :'\n",
    "message += '\\n  x_min = {:6.4f}'.format(x_min)\n",
    "message += '\\n  y_min = {:6.4f}'.format(y_min)\n",
    "message += '\\nBorne supérieure :'\n",
    "message += '\\n  x_max = {:6.4f}'.format(x_max)\n",
    "message += '\\n  y_max = {:6.4f}'.format(y_max)\n",
    "plt.text(1,-5,message)"
   ]
  },
  {
   "cell_type": "code",
   "execution_count": 2,
   "metadata": {},
   "outputs": [
    {
     "name": "stdout",
     "output_type": "stream",
     "text": [
      "nombre d'itérations pour une précision de 0.2:  6\n",
      "nombre d'itérations pour une précision de 0.01:  10\n",
      "nombre d'itérations pour une précision de 1e-5:  20\n",
      "fonction non unimodale\n"
     ]
    }
   ],
   "source": [
    "#test de la méthode de dichotomie pour différentes précisions\n",
    "bornes_min, bornes_max, n_iter, ier = minimumDichotomie(f1,-4,4,0.2)\n",
    "print(\"nombre d'itérations pour une précision de 0.2: \", n_iter)\n",
    "bornes_min, bornes_max, n_iter, ier = minimumDichotomie(f1,-4,4,0.01)\n",
    "print(\"nombre d'itérations pour une précision de 0.01: \",n_iter)\n",
    "bornes_min, bornes_max, n_iter, ier = minimumDichotomie(f1,-4,4,1e-5)\n",
    "print(\"nombre d'itérations pour une précision de 1e-5: \",n_iter)\n",
    "bornes_min, bornes_max, n_iter, ier = minimumDichotomie(f1,-4,4,1e-8)\n"
   ]
  },
  {
   "cell_type": "markdown",
   "metadata": {},
   "source": [
    "on remaque que plus on  a une meilleurs précision, plus le nombre d'itérations augmente.\n",
    "par contre, à partir d'une certaine précision, notre fonction est considéré comme non unimodale(limite de calcul du programme)"
   ]
  },
  {
   "cell_type": "code",
   "execution_count": 3,
   "metadata": {},
   "outputs": [],
   "source": [
    "#définiton de la fonction f2\n",
    "def f2(x) :\n",
    "    return (x+1)**2 + 10*np.sin(x)\n"
   ]
  },
  {
   "cell_type": "code",
   "execution_count": 4,
   "metadata": {},
   "outputs": [
    {
     "name": "stdout",
     "output_type": "stream",
     "text": [
      "fonction non unimodale\n"
     ]
    }
   ],
   "source": [
    "#test de la méthode de dichotomie pour f2\n",
    "bornes_min, bornes_max, n_iter, ier = minimumDichotomie(f2,-4,4,0.1)"
   ]
  },
  {
   "cell_type": "markdown",
   "metadata": {},
   "source": [
    "la précaution à prendre est de s'assurer que notre fonction est bien unimodale sur l'interval de départ.\n",
    "\n",
    "le calcul du minimum pour certaine fonction peut être très couteux, ce qui se traduit par un nombre d'itérations très grand, pour éviter cette situation il faudra juste ajouter un compteur pour limiter le nombre d'itérations."
   ]
  },
  {
   "cell_type": "markdown",
   "metadata": {},
   "source": [
    "## 2.Recherche d'un minimum d'une fonction par la méthode de Newton "
   ]
  },
  {
   "cell_type": "code",
   "execution_count": 5,
   "metadata": {},
   "outputs": [],
   "source": [
    "#METHODE DE NEWTON\n",
    "def newton(f,d1f,d2f,x0,eps,n_iter):\n",
    "    uN=eps+1\n",
    "    cmpt=0\n",
    "    while d2f(x0)!= 0 and abs(uN)>eps and cmpt<n_iter:\n",
    "        uN=d1f(x0)/d2f(x0)\n",
    "        x0-=uN\n",
    "        cmpt+=1\n",
    "    return x0,cmpt,abs(uN)>eps"
   ]
  },
  {
   "cell_type": "code",
   "execution_count": 6,
   "metadata": {},
   "outputs": [],
   "source": [
    "##première derivée de f1\n",
    "def d1f1(x):\n",
    "    return 2*(x+1)+7*np.cos(x)\n",
    "\n",
    "#deuxième derivée de f1\n",
    "def d2f1(x):\n",
    "    return 2-7*np.sin(x)"
   ]
  },
  {
   "cell_type": "code",
   "execution_count": 7,
   "metadata": {},
   "outputs": [
    {
     "name": "stdout",
     "output_type": "stream",
     "text": [
      "-1.4436950579273564 36 False\n",
      "-1.4436866942208746 37 False\n",
      "-1.4436866971109932 30 False\n",
      "7.8496313753942815 1000 True\n"
     ]
    }
   ],
   "source": [
    "#test de la fonction newton pour différentes précision et différents point de départ\n",
    "#x0=0.5 eps=0.1\n",
    "x,nb_iter,err=newton(f1,d1f1,d2f1,0.5,0.1,1000)\n",
    "print(x,nb_iter,err)\n",
    "\n",
    "#x0=0.5 eps=0.0001\n",
    "x,nb_iter,err=newton(f1,d1f1,d2f1,0.5,0.0001,1000)\n",
    "print(x,nb_iter,err)\n",
    "\n",
    "#x0=0 eps=0.1\n",
    "x,nb_iter,err=newton(f1,d1f1,d2f1,0,0.1,1000)\n",
    "print(x,nb_iter,err)\n",
    "\n",
    "#x0=8\n",
    "x,nb_iter,err=newton(f1,d1f1,d2f1,8,0.1,1000)\n",
    "print(x,nb_iter,err)"
   ]
  },
  {
   "cell_type": "markdown",
   "metadata": {},
   "source": [
    "- on remarque que plus la précision est meilleur, plus le nobre d'itérations augmente.\n",
    "- selon le point de départ, plus on est loins de la solution, plus le nombre d'itérations augmente.\n",
    "- si la valeur de départ est très éloignée de la solution, cela implique un nombre d'itérations très grand, au final on n'aura pas de solution dû au dépassenemnt du nombre d'itérations maximum imposé. "
   ]
  },
  {
   "cell_type": "markdown",
   "metadata": {},
   "source": [
    "## 3.Analyse comparative de la méthode de dichotomie et de la méthode de Newton."
   ]
  },
  {
   "cell_type": "markdown",
   "metadata": {},
   "source": [
    "- Pour appliquer la méthode de dichotomie ou Newton sur quelconque fonction, il faut que cette dernière respecte certains critères:\n",
    " - Pour la dichotomie: la fonction doit être unimodale sur l'intervalle de calcul, la méthode nous donne un intervalle contenant minimum.Cette méthode est moins rapide que la méthode de Newton mais plus sûre.\n",
    " - Pour la méthode de Newton: la fonction doit être convexe, la méthode nous donne une valeur approchée de la solution(le minimum).Il faut bien choisir un point de départ relativement proche de las solution et connaître la première et deuxième derivée de notre fonction. "
   ]
  },
  {
   "cell_type": "code",
   "execution_count": null,
   "metadata": {},
   "outputs": [],
   "source": []
  }
 ],
 "metadata": {
  "kernelspec": {
   "display_name": "Python 3",
   "language": "python",
   "name": "python3"
  },
  "language_info": {
   "codemirror_mode": {
    "name": "ipython",
    "version": 3
   },
   "file_extension": ".py",
   "mimetype": "text/x-python",
   "name": "python",
   "nbconvert_exporter": "python",
   "pygments_lexer": "ipython3",
   "version": "3.8.3"
  }
 },
 "nbformat": 4,
 "nbformat_minor": 4
}
